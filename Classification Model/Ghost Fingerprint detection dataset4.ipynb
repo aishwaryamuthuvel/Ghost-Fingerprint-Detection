{
 "cells": [
  {
   "cell_type": "code",
   "execution_count": 1,
   "metadata": {},
   "outputs": [],
   "source": [
    "import pandas as pd \n",
    "import numpy as np\n",
    "from sklearn.model_selection import train_test_split\n",
    "from sklearn import neural_network\n",
    "from sklearn.tree import DecisionTreeClassifier\n",
    "from sklearn.ensemble import RandomForestClassifier \n",
    "from sklearn.neighbors import KNeighborsClassifier\n",
    "from sklearn import metrics \n",
    "import matplotlib.pyplot as plt\n",
    "import warnings\n",
    "warnings.filterwarnings('ignore')"
   ]
  },
  {
   "cell_type": "code",
   "execution_count": 2,
   "metadata": {},
   "outputs": [],
   "source": [
    "#Reading data from excel\n",
    "data = pd.read_excel('dset_test01234.xlsx',header=None)\n",
    "#Converting dataframe to numpy array\n",
    "data = np.array(data)"
   ]
  },
  {
   "cell_type": "code",
   "execution_count": 3,
   "metadata": {},
   "outputs": [
    {
     "name": "stdout",
     "output_type": "stream",
     "text": [
      "(1340, 12)\n",
      "(1340,)\n",
      "(1072, 12)\n",
      "(1072,)\n",
      "(268, 12)\n",
      "(268,)\n",
      "(134, 12)\n",
      "(134,)\n",
      "(134, 12)\n",
      "(134,)\n"
     ]
    }
   ],
   "source": [
    "d = data[:,0:-1] #Features\n",
    "l = data[:,-1]   #Label\n",
    "\n",
    "#Creating training,validation and testing data\n",
    "train_x, tdset_x, train_y, tdset_y = train_test_split(d,l,test_size=0.2)\n",
    "\n",
    "valid_x, test_x, valid_y, test_y = train_test_split(tdset_x,tdset_y,test_size=0.5)\n",
    "\n",
    "print(d.shape)\n",
    "print(l.shape)\n",
    "print(train_x.shape)\n",
    "print(train_y.shape)\n",
    "print(tdset_x.shape)\n",
    "print(tdset_y.shape)\n",
    "print(valid_x.shape)\n",
    "print(valid_y.shape)\n",
    "print(test_x.shape)\n",
    "print(test_y.shape)\n"
   ]
  },
  {
   "cell_type": "markdown",
   "metadata": {},
   "source": [
    "# NN"
   ]
  },
  {
   "cell_type": "code",
   "execution_count": 4,
   "metadata": {},
   "outputs": [],
   "source": [
    "def nn_activation(x_train,y_train,x_test,y_test):\n",
    "    error_rate = []\n",
    "    activation = ['identity','logistic','tanh','relu']\n",
    "    for i in activation:\n",
    "        model = neural_network.MLPClassifier(solver='adam', alpha=1e-5,activation=i,learning_rate_init=0.001,\n",
    "                                             max_iter=30000,shuffle=True)\n",
    "        model.fit(x_train, y_train)\n",
    "        print(\"Activation Function:\",i)\n",
    "        y_pred = model.predict(x_train)\n",
    "        count=0\n",
    "        for j in range(len(y_train)):\n",
    "            if y_train[j] == y_pred[j]:\n",
    "                count = count+1\n",
    "        print(\"Accuracy on Training data:\",(count/len(y_train)))\n",
    "        y_pred = model.predict(x_test)\n",
    "        count=0\n",
    "        for j in range(len(y_test)):\n",
    "            if y_test[j] == y_pred[j]:\n",
    "                count = count+1\n",
    "        error_rate.append((count/len(y_test)))\n",
    "        print(\"Accuracy on Validation data:\",(count/len(y_test)))\n",
    "        \n",
    "        \n",
    "    kloc = error_rate.index(max(error_rate))\n",
    "    print(\"Max accuracy is %s occurs at %s.\" % (error_rate[kloc], activation[kloc]))\n",
    "    return activation[kloc]"
   ]
  },
  {
   "cell_type": "code",
   "execution_count": 5,
   "metadata": {},
   "outputs": [],
   "source": [
    "def nn_hidden_layer(x_train,y_train,x_test,y_test):\n",
    "    error_rate = []\n",
    "    hidden_layer=[5,10,15,20,25,30,35,40,45,50,55,60,65,70,75,80,85,90]\n",
    "    for i in hidden_layer:\n",
    "        model = neural_network.MLPClassifier(solver='adam', alpha=1e-5,hidden_layer_sizes=i,activation='relu',\n",
    "                                             learning_rate_init=0.001,max_iter=40000,shuffle=True)\n",
    "        model.fit(x_train, y_train)\n",
    "        y_pred = model.predict(x_test)\n",
    "        count=0\n",
    "        for j in range(len(y_test)):\n",
    "            if y_test[j] == y_pred[j]:\n",
    "                count = count+1\n",
    "        error_rate.append((count/len(y_test)))\n",
    "    kloc = error_rate.index(max(error_rate))\n",
    "    print(\"Max accuracy is %s occurs at hidden layer size=%s.\" % (error_rate[kloc], hidden_layer[kloc]))\n",
    "\n",
    "    plt.plot(hidden_layer, error_rate, color='blue', linestyle='dashed', marker='o',\n",
    "             markerfacecolor='red', markersize=5)\n",
    "    plt.title('Accuracy vs. Hidden Layer Size')\n",
    "    plt.xlabel('Size')\n",
    "    plt.ylabel('Accuracy')\n",
    "    plt.show()\n",
    "    return hidden_layer[kloc]"
   ]
  },
  {
   "cell_type": "code",
   "execution_count": 8,
   "metadata": {},
   "outputs": [],
   "source": [
    "def nn_hidden_layer_2(x_train,y_train,x_test,y_test):\n",
    "    error_rate = []\n",
    "    hidden_layer=[30,35,40,45,50,55,60]\n",
    "    for i in hidden_layer:\n",
    "        model = neural_network.MLPClassifier(solver='adam', alpha=1e-5,hidden_layer_sizes=(45,i),activation='relu',\n",
    "                                             learning_rate_init=0.001,max_iter=40000,shuffle=True)\n",
    "        model.fit(x_train, y_train)\n",
    "        y_pred = model.predict(x_test)\n",
    "        count=0\n",
    "        for j in range(len(y_test)):\n",
    "            if y_test[j] == y_pred[j]:\n",
    "                count = count+1\n",
    "        error_rate.append((count/len(y_test)))\n",
    "    kloc = error_rate.index(max(error_rate))\n",
    "    print(\"Max accuracy is %s occurs at hidden layer size=%s.\" % (error_rate[kloc], hidden_layer[kloc]))\n",
    "\n",
    "    plt.plot(hidden_layer, error_rate, color='blue', linestyle='dashed', marker='o',\n",
    "             markerfacecolor='red', markersize=5)\n",
    "    plt.title('Accuracy vs. Hidden Layer Size')\n",
    "    plt.xlabel('Size')\n",
    "    plt.ylabel('Accuracy')\n",
    "    plt.show()\n",
    "    return hidden_layer[kloc]"
   ]
  },
  {
   "cell_type": "code",
   "execution_count": 6,
   "metadata": {},
   "outputs": [
    {
     "name": "stdout",
     "output_type": "stream",
     "text": [
      "Activation Function: identity\n",
      "Accuracy on Training data: 0.6492537313432836\n",
      "Accuracy on Validation data: 0.6044776119402985\n",
      "Activation Function: logistic\n",
      "Accuracy on Training data: 0.6352611940298507\n",
      "Accuracy on Validation data: 0.5447761194029851\n",
      "Activation Function: tanh\n",
      "Accuracy on Training data: 0.6539179104477612\n",
      "Accuracy on Validation data: 0.6268656716417911\n",
      "Activation Function: relu\n",
      "Accuracy on Training data: 0.6875\n",
      "Accuracy on Validation data: 0.7014925373134329\n",
      "Max accuracy is 0.7014925373134329 occurs at relu.\n"
     ]
    }
   ],
   "source": [
    "hidden_layer = nn_activation(train_x,train_y,valid_x,valid_y)"
   ]
  },
  {
   "cell_type": "code",
   "execution_count": 7,
   "metadata": {},
   "outputs": [
    {
     "name": "stdout",
     "output_type": "stream",
     "text": [
      "Max accuracy is 0.6940298507462687 occurs at hidden layer size=45.\n"
     ]
    },
    {
     "data": {
      "image/png": "[encoded data removed]",
      "text/plain": [
       "<Figure size 432x288 with 1 Axes>"
      ]
     },
     "metadata": {
      "needs_background": "light"
     },
     "output_type": "display_data"
    }
   ],
   "source": [
    "hidden_layer = nn_hidden_layer(train_x,train_y,valid_x,valid_y)"
   ]
  },
  {
   "cell_type": "code",
   "execution_count": 9,
   "metadata": {},
   "outputs": [
    {
     "name": "stdout",
     "output_type": "stream",
     "text": [
      "Max accuracy is 0.6791044776119403 occurs at hidden layer size=30.\n"
     ]
    },
    {
     "data": {
      "image/png": "[encoded data removed]",
      "text/plain": [
       "<Figure size 432x288 with 1 Axes>"
      ]
     },
     "metadata": {
      "needs_background": "light"
     },
     "output_type": "display_data"
    }
   ],
   "source": [
    "hidden_layer = nn_hidden_layer_2(train_x,train_y,valid_x,valid_y)"
   ]
  },
  {
   "cell_type": "markdown",
   "metadata": {},
   "source": [
    "# Random Forrest"
   ]
  },
  {
   "cell_type": "code",
   "execution_count": 11,
   "metadata": {},
   "outputs": [
    {
     "name": "stdout",
     "output_type": "stream",
     "text": [
      "[ 95.98880597  95.52238806  97.57462687  98.13432836  98.78731343\n",
      "  98.50746269  98.78731343  99.44029851  99.25373134  99.25373134\n",
      "  99.72014925  99.81343284  99.81343284  99.72014925  99.81343284\n",
      "  99.90671642 100.          99.62686567  99.90671642  99.81343284\n",
      "  99.81343284 100.          99.72014925 100.          99.90671642\n",
      "  99.90671642 100.          99.90671642  99.90671642 100.\n",
      " 100.         100.         100.         100.         100.\n",
      " 100.         100.          99.90671642 100.          99.90671642\n",
      " 100.         100.         100.         100.         100.\n",
      " 100.        ]\n",
      "[62.68656716 67.91044776 58.95522388 64.17910448 63.43283582 65.67164179\n",
      " 61.94029851 64.92537313 62.68656716 64.17910448 59.70149254 64.92537313\n",
      " 68.65671642 70.14925373 68.65671642 60.44776119 67.1641791  69.40298507\n",
      " 64.92537313 68.65671642 64.92537313 67.91044776 71.64179104 64.92537313\n",
      " 69.40298507 67.1641791  63.43283582 68.65671642 64.92537313 67.91044776\n",
      " 63.43283582 67.91044776 66.41791045 69.40298507 62.68656716 68.65671642\n",
      " 69.40298507 67.91044776 65.67164179 70.89552239 70.89552239 70.89552239\n",
      " 67.91044776 67.1641791  67.91044776 65.67164179]\n"
     ]
    },
    {
     "data": {
      "text/plain": [
       "Text(0, 0.5, 'Accuracy [%]')"
      ]
     },
     "execution_count": 11,
     "metadata": {},
     "output_type": "execute_result"
    },
    {
     "data": {
      "image/png": "[encoded data removed]",
      "text/plain": [
       "<Figure size 432x288 with 1 Axes>"
      ]
     },
     "metadata": {
      "needs_background": "light"
     },
     "output_type": "display_data"
    }
   ],
   "source": [
    "acc_train=[]\n",
    "acc_test=[]\n",
    "i=5\n",
    "while i<=50:\n",
    "    clf = RandomForestClassifier(n_estimators=i)\n",
    "    clf = clf.fit(train_x,train_y)\n",
    "    acc_train.append(clf.score(train_x,train_y)*100)\n",
    "    acc_test.append(clf.score(valid_x,valid_y)*100)\n",
    "    i+=1\n",
    "    \n",
    "print(np.array(acc_train))\n",
    "print(np.array(acc_test))\n",
    "\n",
    "plt.plot(np.arange(5,51),acc_test, color='blue', linestyle='dashed', marker='o',\n",
    "             markerfacecolor='red', markersize=5)\n",
    "plt.xlabel('Max Depth [#]')\n",
    "plt.ylabel('Accuracy [%]')"
   ]
  },
  {
   "cell_type": "markdown",
   "metadata": {},
   "source": [
    "# K Nearest Neighbour "
   ]
  },
  {
   "cell_type": "code",
   "execution_count": 12,
   "metadata": {},
   "outputs": [
    {
     "name": "stdout",
     "output_type": "stream",
     "text": [
      "[100. 100. 100. 100. 100. 100. 100. 100. 100. 100. 100. 100. 100. 100.\n",
      " 100. 100. 100. 100. 100. 100. 100. 100. 100. 100. 100. 100. 100. 100.\n",
      " 100. 100. 100. 100. 100. 100. 100. 100. 100. 100. 100. 100. 100. 100.\n",
      " 100. 100. 100. 100. 100. 100.]\n",
      "[53.73134328 54.47761194 58.20895522 58.95522388 60.44776119 58.20895522\n",
      " 59.70149254 59.70149254 61.19402985 61.19402985 61.94029851 61.19402985\n",
      " 61.94029851 61.19402985 59.70149254 61.19402985 58.20895522 58.95522388\n",
      " 58.95522388 60.44776119 56.71641791 60.44776119 58.20895522 58.95522388\n",
      " 56.71641791 57.46268657 55.97014925 58.20895522 55.97014925 57.46268657\n",
      " 55.97014925 54.47761194 54.47761194 57.46268657 56.71641791 60.44776119\n",
      " 58.95522388 61.19402985 60.44776119 60.44776119 58.95522388 60.44776119\n",
      " 58.20895522 60.44776119 58.95522388 59.70149254 58.20895522 59.70149254]\n"
     ]
    },
    {
     "data": {
      "text/plain": [
       "Text(0, 0.5, 'Accuracy [%]')"
      ]
     },
     "execution_count": 12,
     "metadata": {},
     "output_type": "execute_result"
    },
    {
     "data": {
      "image/png": "[encoded data removed]",
      "text/plain": [
       "<Figure size 432x288 with 1 Axes>"
      ]
     },
     "metadata": {
      "needs_background": "light"
     },
     "output_type": "display_data"
    }
   ],
   "source": [
    "acc_train=[]\n",
    "acc_test=[]\n",
    "i=3\n",
    "while i<=50:\n",
    "    clf = KNeighborsClassifier(n_neighbors=i,weights='distance')\n",
    "    clf = clf.fit(train_x,train_y)\n",
    "    acc_train.append(clf.score(train_x,train_y)*100)\n",
    "    acc_test.append(clf.score(valid_x,valid_y)*100)\n",
    "    i+=1\n",
    "    \n",
    "print(np.array(acc_train))\n",
    "print(np.array(acc_test))\n",
    "\n",
    "plt.plot(np.arange(3,51),acc_test, color='blue', linestyle='dashed', marker='o',\n",
    "             markerfacecolor='red', markersize=5)\n",
    "plt.xlabel('Number of neighbours [k]')\n",
    "plt.ylabel('Accuracy [%]')"
   ]
  },
  {
   "cell_type": "markdown",
   "metadata": {},
   "source": [
    "# Final Models"
   ]
  },
  {
   "cell_type": "code",
   "execution_count": 13,
   "metadata": {},
   "outputs": [],
   "source": [
    "def classify(model,x_train,y_train,x_test,y_test):\n",
    "    model.fit(x_train,y_train)\n",
    "    t_0 = 0\n",
    "    t_1 = 0\n",
    "    f_0 = 0\n",
    "    f_1 = 0\n",
    "    y_pred = model.predict(x_test)\n",
    "    for i in range(len(y_test)):\n",
    "        if y_test[i] == 0:\n",
    "            if y_test[i]==y_pred[i]:\n",
    "                t_0 = t_0+1\n",
    "            else:\n",
    "                f_1 = f_1+1\n",
    "        elif y_test[i] == 1:\n",
    "            if y_test[i] == y_pred[i]:\n",
    "                t_1 = t_1+1\n",
    "            else:\n",
    "                f_0 = f_0+1\n",
    "                \n",
    "    print(\"Confusion Matrix:\")            \n",
    "    print(\"Predicted\\Actual   Not Ghost    Ghost\")\n",
    "    print(\"Not Ghost          \",t_0,\"        \",f_0)\n",
    "    print(\"Ghost              \",f_1,\"        \",t_1)\n",
    "    print(\"Accuracy:\",((t_0+t_1)/len(y_test)))\n",
    "    print(\"Error Rate:\",((f_0+f_1)/len(y_test)),\"\\n\")\n",
    "    print(\"Prediction of Not Ghost (clear) Fingerprints\")\n",
    "    print(\"-------------------\")\n",
    "    print(\"Precision:\",(t_0/(t_0+f_0)))\n",
    "    print(\"Recall:\",(t_0/(t_0+f_1)),\"\\n\")\n",
    "    print(\"Prediction of Ghost Fingerprints\")\n",
    "    print(\"---------------------\")\n",
    "    print(\"Precision:\",(t_1/(t_1+f_1)))\n",
    "    print(\"Recall:\",(t_1/(t_1+f_0)))"
   ]
  },
  {
   "cell_type": "code",
   "execution_count": 14,
   "metadata": {},
   "outputs": [],
   "source": [
    "model_nn = neural_network.MLPClassifier(solver='adam', alpha=1e-5,hidden_layer_sizes=80,activation='relu',\n",
    "                                             learning_rate_init=0.001,max_iter=40000,shuffle=True)\n",
    "\n",
    "model_rf = RandomForestClassifier(n_estimators=25)\n",
    "\n",
    "model_knn = KNeighborsClassifier(n_neighbors=9,weights='distance') \n"
   ]
  },
  {
   "cell_type": "code",
   "execution_count": 15,
   "metadata": {},
   "outputs": [
    {
     "name": "stdout",
     "output_type": "stream",
     "text": [
      "Confusion Matrix:\n",
      "Predicted\\Actual   Not Ghost    Ghost\n",
      "Not Ghost           52          17\n",
      "Ghost               24          41\n",
      "Accuracy: 0.6940298507462687\n",
      "Error Rate: 0.30597014925373134 \n",
      "\n",
      "Prediction of Not Ghost (clear) Fingerprints\n",
      "-------------------\n",
      "Precision: 0.7536231884057971\n",
      "Recall: 0.6842105263157895 \n",
      "\n",
      "Prediction of Ghost Fingerprints\n",
      "---------------------\n",
      "Precision: 0.6307692307692307\n",
      "Recall: 0.7068965517241379\n"
     ]
    }
   ],
   "source": [
    "classify(model_nn,train_x,train_y,test_x,test_y)"
   ]
  },
  {
   "cell_type": "code",
   "execution_count": 39,
   "metadata": {},
   "outputs": [
    {
     "name": "stdout",
     "output_type": "stream",
     "text": [
      "Confusion Matrix:\n",
      "Predicted\\Actual   Not Ghost    Ghost\n",
      "Not Ghost           52          24\n",
      "Ghost               24          34\n",
      "Accuracy: 0.6417910447761194\n",
      "Error Rate: 0.3582089552238806 \n",
      "\n",
      "Prediction of Not Ghost (clear) Fingerprints\n",
      "-------------------\n",
      "Precision: 0.6842105263157895\n",
      "Recall: 0.6842105263157895 \n",
      "\n",
      "Prediction of Ghost Fingerprints\n",
      "---------------------\n",
      "Precision: 0.5862068965517241\n",
      "Recall: 0.5862068965517241\n"
     ]
    }
   ],
   "source": [
    "classify(model_rf,train_x,train_y,test_x,test_y)"
   ]
  },
  {
   "cell_type": "code",
   "execution_count": 40,
   "metadata": {},
   "outputs": [
    {
     "name": "stdout",
     "output_type": "stream",
     "text": [
      "Confusion Matrix:\n",
      "Predicted\\Actual   Not Ghost    Ghost\n",
      "Not Ghost           44          21\n",
      "Ghost               32          37\n",
      "Accuracy: 0.6044776119402985\n",
      "Error Rate: 0.39552238805970147 \n",
      "\n",
      "Prediction of Not Ghost (clear) Fingerprints\n",
      "-------------------\n",
      "Precision: 0.676923076923077\n",
      "Recall: 0.5789473684210527 \n",
      "\n",
      "Prediction of Ghost Fingerprints\n",
      "---------------------\n",
      "Precision: 0.5362318840579711\n",
      "Recall: 0.6379310344827587\n"
     ]
    }
   ],
   "source": [
    "classify(model_knn,train_x,train_y,test_x,test_y)"
   ]
  }
 ],
 "metadata": {
  "kernelspec": {
   "display_name": "Python 3",
   "language": "python",
   "name": "python3"
  },
  "language_info": {
   "codemirror_mode": {
    "name": "ipython",
    "version": 3
   },
   "file_extension": ".py",
   "mimetype": "text/x-python",
   "name": "python",
   "nbconvert_exporter": "python",
   "pygments_lexer": "ipython3",
   "version": "3.7.3"
  }
 },
 "nbformat": 4,
 "nbformat_minor": 2
}
