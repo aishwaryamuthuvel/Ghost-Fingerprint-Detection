{
 "cells": [
  {
   "cell_type": "code",
   "execution_count": 1,
   "metadata": {},
   "outputs": [],
   "source": [
    "import pandas as pd \n",
    "import numpy as np\n",
    "from sklearn.model_selection import train_test_split\n",
    "from sklearn import neural_network\n",
    "from sklearn.tree import DecisionTreeClassifier\n",
    "from sklearn.ensemble import RandomForestClassifier \n",
    "from sklearn.neighbors import KNeighborsClassifier\n",
    "from sklearn import metrics \n",
    "import matplotlib.pyplot as plt\n",
    "import warnings\n",
    "warnings.filterwarnings('ignore')"
   ]
  },
  {
   "cell_type": "code",
   "execution_count": 2,
   "metadata": {},
   "outputs": [],
   "source": [
    "#Reading data from excel\n",
    "data = pd.read_excel('dset_test012.xlsx',header=None)\n",
    "#Converting dataframe to numpy array\n",
    "data = np.array(data)"
   ]
  },
  {
   "cell_type": "code",
   "execution_count": 3,
   "metadata": {},
   "outputs": [
    {
     "name": "stdout",
     "output_type": "stream",
     "text": [
      "(1331, 12)\n",
      "(1331,)\n",
      "(1064, 12)\n",
      "(1064,)\n",
      "(267, 12)\n",
      "(267,)\n",
      "(133, 12)\n",
      "(133,)\n",
      "(134, 12)\n",
      "(134,)\n"
     ]
    }
   ],
   "source": [
    "d = data[:,0:-1] #Features\n",
    "l = data[:,-1]   #Label\n",
    "\n",
    "#Creating training,validation and testing data\n",
    "train_x, tdset_x, train_y, tdset_y = train_test_split(d,l,test_size=0.2)\n",
    "\n",
    "valid_x, test_x, valid_y, test_y = train_test_split(tdset_x,tdset_y,test_size=0.5)\n",
    "\n",
    "print(d.shape)\n",
    "print(l.shape)\n",
    "print(train_x.shape)\n",
    "print(train_y.shape)\n",
    "print(tdset_x.shape)\n",
    "print(tdset_y.shape)\n",
    "print(valid_x.shape)\n",
    "print(valid_y.shape)\n",
    "print(test_x.shape)\n",
    "print(test_y.shape)\n"
   ]
  },
  {
   "cell_type": "markdown",
   "metadata": {},
   "source": [
    "# NN"
   ]
  },
  {
   "cell_type": "code",
   "execution_count": 4,
   "metadata": {},
   "outputs": [],
   "source": [
    "def nn_activation(x_train,y_train,x_test,y_test):\n",
    "    error_rate = []\n",
    "    activation = ['identity','logistic','tanh','relu']\n",
    "    for i in activation:\n",
    "        model = neural_network.MLPClassifier(solver='adam', alpha=1e-5,activation=i,learning_rate_init=0.001,\n",
    "                                             max_iter=30000,shuffle=True)\n",
    "        model.fit(x_train, y_train)\n",
    "        print(\"Activation Function:\",i)\n",
    "        y_pred = model.predict(x_train)\n",
    "        count=0\n",
    "        for j in range(len(y_train)):\n",
    "            if y_train[j] == y_pred[j]:\n",
    "                count = count+1\n",
    "        print(\"Accuracy on Training data:\",(count/len(y_train)))\n",
    "        y_pred = model.predict(x_test)\n",
    "        count=0\n",
    "        for j in range(len(y_test)):\n",
    "            if y_test[j] == y_pred[j]:\n",
    "                count = count+1\n",
    "        error_rate.append((count/len(y_test)))\n",
    "        print(\"Accuracy on Validation data:\",(count/len(y_test)))\n",
    "        \n",
    "        \n",
    "    kloc = error_rate.index(max(error_rate))\n",
    "    print(\"Max accuracy is %s occurs at %s.\" % (error_rate[kloc], activation[kloc]))\n",
    "    return activation[kloc]"
   ]
  },
  {
   "cell_type": "code",
   "execution_count": 5,
   "metadata": {},
   "outputs": [],
   "source": [
    "def nn_hidden_layer(x_train,y_train,x_test,y_test):\n",
    "    error_rate = []\n",
    "    hidden_layer=[5,10,15,20,25,30,35,40,45,50,55,60,65,70,75,80,85,90]\n",
    "    for i in hidden_layer:\n",
    "        model = neural_network.MLPClassifier(solver='adam', alpha=1e-5,hidden_layer_sizes=i,activation='relu',\n",
    "                                             learning_rate_init=0.001,max_iter=40000,shuffle=True)\n",
    "        model.fit(x_train, y_train)\n",
    "        y_pred = model.predict(x_test)\n",
    "        count=0\n",
    "        for j in range(len(y_test)):\n",
    "            if y_test[j] == y_pred[j]:\n",
    "                count = count+1\n",
    "        error_rate.append((count/len(y_test)))\n",
    "    kloc = error_rate.index(max(error_rate))\n",
    "    print(\"Max accuracy is %s occurs at hidden layer size=%s.\" % (error_rate[kloc], hidden_layer[kloc]))\n",
    "\n",
    "    plt.plot(hidden_layer, error_rate, color='blue', linestyle='dashed', marker='o',\n",
    "             markerfacecolor='red', markersize=5)\n",
    "    plt.title('Accuracy vs. Hidden Layer Size')\n",
    "    plt.xlabel('Size')\n",
    "    plt.ylabel('Accuracy')\n",
    "    plt.show()\n",
    "    return hidden_layer[kloc]"
   ]
  },
  {
   "cell_type": "code",
   "execution_count": 9,
   "metadata": {},
   "outputs": [],
   "source": [
    "def nn_hidden_layer_2(x_train,y_train,x_test,y_test):\n",
    "    error_rate = []\n",
    "    hidden_layer=[30,35,40,45,50,55,60]\n",
    "    for i in hidden_layer:\n",
    "        model = neural_network.MLPClassifier(solver='adam', alpha=1e-5,hidden_layer_sizes=(80,i),activation='relu',\n",
    "                                             learning_rate_init=0.001,max_iter=40000,shuffle=True)\n",
    "        model.fit(x_train, y_train)\n",
    "        y_pred = model.predict(x_test)\n",
    "        count=0\n",
    "        for j in range(len(y_test)):\n",
    "            if y_test[j] == y_pred[j]:\n",
    "                count = count+1\n",
    "        error_rate.append((count/len(y_test)))\n",
    "    kloc = error_rate.index(max(error_rate))\n",
    "    print(\"Max accuracy is %s occurs at hidden layer size=%s.\" % (error_rate[kloc], hidden_layer[kloc]))\n",
    "\n",
    "    plt.plot(hidden_layer, error_rate, color='blue', linestyle='dashed', marker='o',\n",
    "             markerfacecolor='red', markersize=5)\n",
    "    plt.title('Accuracy vs. Hidden Layer Size')\n",
    "    plt.xlabel('Size')\n",
    "    plt.ylabel('Accuracy')\n",
    "    plt.show()\n",
    "    return hidden_layer[kloc]"
   ]
  },
  {
   "cell_type": "code",
   "execution_count": 7,
   "metadata": {},
   "outputs": [
    {
     "name": "stdout",
     "output_type": "stream",
     "text": [
      "Activation Function: identity\n",
      "Accuracy on Training data: 0.6870300751879699\n",
      "Accuracy on Validation data: 0.6616541353383458\n",
      "Activation Function: logistic\n",
      "Accuracy on Training data: 0.6719924812030075\n",
      "Accuracy on Validation data: 0.6466165413533834\n",
      "Activation Function: tanh\n",
      "Accuracy on Training data: 0.6889097744360902\n",
      "Accuracy on Validation data: 0.6390977443609023\n",
      "Activation Function: relu\n",
      "Accuracy on Training data: 0.7171052631578947\n",
      "Accuracy on Validation data: 0.6691729323308271\n",
      "Max accuracy is 0.6691729323308271 occurs at relu.\n"
     ]
    }
   ],
   "source": [
    "hidden_layer = nn_activation(train_x,train_y,valid_x,valid_y)"
   ]
  },
  {
   "cell_type": "code",
   "execution_count": 8,
   "metadata": {},
   "outputs": [
    {
     "name": "stdout",
     "output_type": "stream",
     "text": [
      "Max accuracy is 0.6917293233082706 occurs at hidden layer size=80.\n"
     ]
    },
    {
     "data": {
      "image/png": "[encoded data removed]",
      "text/plain": [
       "<Figure size 432x288 with 1 Axes>"
      ]
     },
     "metadata": {
      "needs_background": "light"
     },
     "output_type": "display_data"
    }
   ],
   "source": [
    "hidden_layer = nn_hidden_layer(train_x,train_y,valid_x,valid_y)"
   ]
  },
  {
   "cell_type": "code",
   "execution_count": 10,
   "metadata": {},
   "outputs": [
    {
     "name": "stdout",
     "output_type": "stream",
     "text": [
      "Max accuracy is 0.6992481203007519 occurs at hidden layer size=60.\n"
     ]
    },
    {
     "data": {
      "image/png": "[encoded data removed]",
      "text/plain": [
       "<Figure size 432x288 with 1 Axes>"
      ]
     },
     "metadata": {
      "needs_background": "light"
     },
     "output_type": "display_data"
    }
   ],
   "source": [
    "hidden_layer = nn_hidden_layer_2(train_x,train_y,valid_x,valid_y)"
   ]
  },
  {
   "cell_type": "markdown",
   "metadata": {},
   "source": [
    "# Random Forrest"
   ]
  },
  {
   "cell_type": "code",
   "execution_count": 12,
   "metadata": {},
   "outputs": [
    {
     "name": "stdout",
     "output_type": "stream",
     "text": [
      "[ 96.71052632  97.36842105  97.7443609   98.02631579  98.30827068\n",
      "  98.4962406   99.43609023  98.4962406   98.96616541  99.43609023\n",
      "  99.71804511  99.43609023  99.62406015  99.34210526  99.81203008\n",
      "  99.90601504  99.81203008  99.81203008  99.62406015  99.90601504\n",
      "  99.81203008  99.81203008 100.         100.         100.\n",
      "  99.90601504 100.          99.81203008 100.         100.\n",
      " 100.          99.90601504  99.90601504  99.90601504 100.\n",
      "  99.90601504 100.         100.         100.         100.\n",
      " 100.         100.         100.         100.         100.\n",
      "  99.90601504]\n",
      "[70.67669173 66.16541353 63.90977444 64.66165414 64.66165414 69.17293233\n",
      " 72.93233083 70.67669173 70.67669173 72.18045113 67.66917293 67.66917293\n",
      " 66.91729323 73.68421053 68.42105263 70.67669173 71.42857143 69.17293233\n",
      " 67.66917293 72.18045113 70.67669173 68.42105263 70.67669173 68.42105263\n",
      " 70.67669173 73.68421053 74.43609023 75.93984962 68.42105263 68.42105263\n",
      " 68.42105263 65.41353383 69.17293233 69.17293233 70.67669173 72.93233083\n",
      " 74.43609023 75.18796992 66.91729323 72.18045113 66.91729323 69.17293233\n",
      " 69.92481203 69.92481203 68.42105263 67.66917293]\n"
     ]
    },
    {
     "data": {
      "text/plain": [
       "Text(0, 0.5, 'Accuracy [%]')"
      ]
     },
     "execution_count": 12,
     "metadata": {},
     "output_type": "execute_result"
    },
    {
     "data": {
      "image/png": "[encoded data removed]",
      "text/plain": [
       "<Figure size 432x288 with 1 Axes>"
      ]
     },
     "metadata": {
      "needs_background": "light"
     },
     "output_type": "display_data"
    }
   ],
   "source": [
    "acc_train=[]\n",
    "acc_test=[]\n",
    "i=5\n",
    "while i<=50:\n",
    "    clf = RandomForestClassifier(n_estimators=i)\n",
    "    clf = clf.fit(train_x,train_y)\n",
    "    acc_train.append(clf.score(train_x,train_y)*100)\n",
    "    acc_test.append(clf.score(valid_x,valid_y)*100)\n",
    "    i+=1\n",
    "    \n",
    "print(np.array(acc_train))\n",
    "print(np.array(acc_test))\n",
    "\n",
    "plt.plot(np.arange(5,51),acc_test, color='blue', linestyle='dashed', marker='o',\n",
    "             markerfacecolor='red', markersize=5)\n",
    "plt.xlabel('Max Depth [#]')\n",
    "plt.ylabel('Accuracy [%]')"
   ]
  },
  {
   "cell_type": "markdown",
   "metadata": {},
   "source": [
    "# K Nearest Neighbour "
   ]
  },
  {
   "cell_type": "code",
   "execution_count": 13,
   "metadata": {},
   "outputs": [
    {
     "name": "stdout",
     "output_type": "stream",
     "text": [
      "[100. 100. 100. 100. 100. 100. 100. 100. 100. 100. 100. 100. 100. 100.\n",
      " 100. 100. 100. 100. 100. 100. 100. 100. 100. 100. 100. 100. 100. 100.\n",
      " 100. 100. 100. 100. 100. 100. 100. 100. 100. 100. 100. 100. 100. 100.\n",
      " 100. 100. 100. 100. 100. 100.]\n",
      "[68.42105263 69.92481203 67.66917293 69.92481203 71.42857143 71.42857143\n",
      " 69.92481203 72.18045113 69.92481203 72.18045113 70.67669173 72.93233083\n",
      " 69.92481203 72.18045113 69.17293233 71.42857143 69.92481203 71.42857143\n",
      " 69.92481203 69.17293233 70.67669173 72.93233083 70.67669173 73.68421053\n",
      " 69.17293233 72.93233083 70.67669173 69.17293233 71.42857143 69.17293233\n",
      " 71.42857143 71.42857143 71.42857143 71.42857143 72.18045113 71.42857143\n",
      " 72.93233083 71.42857143 72.18045113 71.42857143 72.18045113 72.18045113\n",
      " 71.42857143 72.93233083 72.93233083 73.68421053 71.42857143 72.18045113]\n"
     ]
    },
    {
     "data": {
      "text/plain": [
       "Text(0, 0.5, 'Accuracy [%]')"
      ]
     },
     "execution_count": 13,
     "metadata": {},
     "output_type": "execute_result"
    },
    {
     "data": {
      "image/png": "[encoded data removed]",
      "text/plain": [
       "<Figure size 432x288 with 1 Axes>"
      ]
     },
     "metadata": {
      "needs_background": "light"
     },
     "output_type": "display_data"
    }
   ],
   "source": [
    "acc_train=[]\n",
    "acc_test=[]\n",
    "i=3\n",
    "while i<=50:\n",
    "    clf = KNeighborsClassifier(n_neighbors=i,weights='distance')\n",
    "    clf = clf.fit(train_x,train_y)\n",
    "    acc_train.append(clf.score(train_x,train_y)*100)\n",
    "    acc_test.append(clf.score(valid_x,valid_y)*100)\n",
    "    i+=1\n",
    "    \n",
    "print(np.array(acc_train))\n",
    "print(np.array(acc_test))\n",
    "\n",
    "plt.plot(np.arange(3,51),acc_test, color='blue', linestyle='dashed', marker='o',\n",
    "             markerfacecolor='red', markersize=5)\n",
    "plt.xlabel('Number of neighbours [k]')\n",
    "plt.ylabel('Accuracy [%]')"
   ]
  },
  {
   "cell_type": "markdown",
   "metadata": {},
   "source": [
    "# Final Models"
   ]
  },
  {
   "cell_type": "code",
   "execution_count": 14,
   "metadata": {},
   "outputs": [],
   "source": [
    "def classify(model,x_train,y_train,x_test,y_test):\n",
    "    model.fit(x_train,y_train)\n",
    "    t_0 = 0\n",
    "    t_1 = 0\n",
    "    f_0 = 0\n",
    "    f_1 = 0\n",
    "    y_pred = model.predict(x_test)\n",
    "    for i in range(len(y_test)):\n",
    "        if y_test[i] == 0:\n",
    "            if y_test[i]==y_pred[i]:\n",
    "                t_0 = t_0+1\n",
    "            else:\n",
    "                f_1 = f_1+1\n",
    "        elif y_test[i] == 1:\n",
    "            if y_test[i] == y_pred[i]:\n",
    "                t_1 = t_1+1\n",
    "            else:\n",
    "                f_0 = f_0+1\n",
    "                \n",
    "    print(\"Confusion Matrix:\")            \n",
    "    print(\"Predicted\\Actual   Not Ghost    Ghost\")\n",
    "    print(\"Not Ghost          \",t_0,\"        \",f_0)\n",
    "    print(\"Ghost              \",f_1,\"        \",t_1)\n",
    "    print(\"Accuracy:\",((t_0+t_1)/len(y_test)))\n",
    "    print(\"Error Rate:\",((f_0+f_1)/len(y_test)),\"\\n\")\n",
    "    print(\"Prediction of Not Ghost (clear) Fingerprints\")\n",
    "    print(\"-------------------\")\n",
    "    print(\"Precision:\",(t_0/(t_0+f_0)))\n",
    "    print(\"Recall:\",(t_0/(t_0+f_1)),\"\\n\")\n",
    "    print(\"Prediction of Ghost Fingerprints\")\n",
    "    print(\"---------------------\")\n",
    "    print(\"Precision:\",(t_1/(t_1+f_1)))\n",
    "    print(\"Recall:\",(t_1/(t_1+f_0)))"
   ]
  },
  {
   "cell_type": "code",
   "execution_count": 42,
   "metadata": {},
   "outputs": [],
   "source": [
    "model_nn = neural_network.MLPClassifier(solver='adam', alpha=1e-5,hidden_layer_sizes=80,activation='relu',\n",
    "                                             learning_rate_init=0.001,max_iter=40000,shuffle=True)\n",
    "\n",
    "model_rf = RandomForestClassifier(n_estimators=25)\n",
    "\n",
    "model_knn = KNeighborsClassifier(n_neighbors=9,weights='distance') \n"
   ]
  },
  {
   "cell_type": "code",
   "execution_count": 36,
   "metadata": {},
   "outputs": [
    {
     "name": "stdout",
     "output_type": "stream",
     "text": [
      "Confusion Matrix:\n",
      "Predicted\\Actual   Not Ghost    Ghost\n",
      "Not Ghost           52          20\n",
      "Ghost               21          41\n",
      "Accuracy: 0.6940298507462687\n",
      "Error Rate: 0.30597014925373134 \n",
      "\n",
      "Prediction of Not Ghost (clear) Fingerprints\n",
      "-------------------\n",
      "Precision: 0.7222222222222222\n",
      "Recall: 0.7123287671232876 \n",
      "\n",
      "Prediction of Ghost Fingerprints\n",
      "---------------------\n",
      "Precision: 0.6612903225806451\n",
      "Recall: 0.6721311475409836\n"
     ]
    }
   ],
   "source": [
    "classify(model_nn,train_x,train_y,test_x,test_y)"
   ]
  },
  {
   "cell_type": "code",
   "execution_count": 44,
   "metadata": {},
   "outputs": [
    {
     "name": "stdout",
     "output_type": "stream",
     "text": [
      "Confusion Matrix:\n",
      "Predicted\\Actual   Not Ghost    Ghost\n",
      "Not Ghost           49          15\n",
      "Ghost               24          46\n",
      "Accuracy: 0.7089552238805971\n",
      "Error Rate: 0.291044776119403 \n",
      "\n",
      "Prediction of Not Ghost (clear) Fingerprints\n",
      "-------------------\n",
      "Precision: 0.765625\n",
      "Recall: 0.6712328767123288 \n",
      "\n",
      "Prediction of Ghost Fingerprints\n",
      "---------------------\n",
      "Precision: 0.6571428571428571\n",
      "Recall: 0.7540983606557377\n"
     ]
    }
   ],
   "source": [
    "classify(model_rf,train_x,train_y,test_x,test_y)"
   ]
  },
  {
   "cell_type": "code",
   "execution_count": 45,
   "metadata": {},
   "outputs": [
    {
     "name": "stdout",
     "output_type": "stream",
     "text": [
      "Confusion Matrix:\n",
      "Predicted\\Actual   Not Ghost    Ghost\n",
      "Not Ghost           50          17\n",
      "Ghost               23          44\n",
      "Accuracy: 0.7014925373134329\n",
      "Error Rate: 0.29850746268656714 \n",
      "\n",
      "Prediction of Not Ghost (clear) Fingerprints\n",
      "-------------------\n",
      "Precision: 0.746268656716418\n",
      "Recall: 0.684931506849315 \n",
      "\n",
      "Prediction of Ghost Fingerprints\n",
      "---------------------\n",
      "Precision: 0.6567164179104478\n",
      "Recall: 0.7213114754098361\n"
     ]
    }
   ],
   "source": [
    "classify(model_knn,train_x,train_y,test_x,test_y)"
   ]
  }
 ],
 "metadata": {
  "kernelspec": {
   "display_name": "Python 3",
   "language": "python",
   "name": "python3"
  },
  "language_info": {
   "codemirror_mode": {
    "name": "ipython",
    "version": 3
   },
   "file_extension": ".py",
   "mimetype": "text/x-python",
   "name": "python",
   "nbconvert_exporter": "python",
   "pygments_lexer": "ipython3",
   "version": "3.7.3"
  }
 },
 "nbformat": 4,
 "nbformat_minor": 2
}
