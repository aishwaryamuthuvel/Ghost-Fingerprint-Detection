{
 "cells": [
  {
   "cell_type": "code",
   "execution_count": 1,
   "metadata": {},
   "outputs": [],
   "source": [
    "import pandas as pd \n",
    "import numpy as np\n",
    "from sklearn.model_selection import train_test_split\n",
    "from sklearn import neural_network\n",
    "from sklearn.tree import DecisionTreeClassifier\n",
    "from sklearn.ensemble import RandomForestClassifier \n",
    "from sklearn.neighbors import KNeighborsClassifier\n",
    "from sklearn import metrics \n",
    "import matplotlib.pyplot as plt\n",
    "import warnings\n",
    "warnings.filterwarnings('ignore')"
   ]
  },
  {
   "cell_type": "code",
   "execution_count": 2,
   "metadata": {},
   "outputs": [],
   "source": [
    "#Reading data from excel\n",
    "data = pd.read_excel('dset_test012345.xlsx',header=None)\n",
    "#Converting dataframe to numpy array\n",
    "data = np.array(data)"
   ]
  },
  {
   "cell_type": "code",
   "execution_count": 3,
   "metadata": {},
   "outputs": [
    {
     "name": "stdout",
     "output_type": "stream",
     "text": [
      "(1331, 12)\n",
      "(1331,)\n",
      "(1064, 12)\n",
      "(1064,)\n",
      "(267, 12)\n",
      "(267,)\n",
      "(133, 12)\n",
      "(133,)\n",
      "(134, 12)\n",
      "(134,)\n"
     ]
    }
   ],
   "source": [
    "d = data[:,0:-1] #Features\n",
    "l = data[:,-1]   #Label\n",
    "\n",
    "#Creating training,validation and testing data\n",
    "train_x, tdset_x, train_y, tdset_y = train_test_split(d,l,test_size=0.2)\n",
    "\n",
    "valid_x, test_x, valid_y, test_y = train_test_split(tdset_x,tdset_y,test_size=0.5)\n",
    "\n",
    "print(d.shape)\n",
    "print(l.shape)\n",
    "print(train_x.shape)\n",
    "print(train_y.shape)\n",
    "print(tdset_x.shape)\n",
    "print(tdset_y.shape)\n",
    "print(valid_x.shape)\n",
    "print(valid_y.shape)\n",
    "print(test_x.shape)\n",
    "print(test_y.shape)\n"
   ]
  },
  {
   "cell_type": "markdown",
   "metadata": {},
   "source": [
    "# NN"
   ]
  },
  {
   "cell_type": "code",
   "execution_count": 4,
   "metadata": {},
   "outputs": [],
   "source": [
    "def nn_activation(x_train,y_train,x_test,y_test):\n",
    "    error_rate = []\n",
    "    activation = ['identity','logistic','tanh','relu']\n",
    "    for i in activation:\n",
    "        model = neural_network.MLPClassifier(solver='adam', alpha=1e-5,activation=i,learning_rate_init=0.001,\n",
    "                                             max_iter=30000,shuffle=True)\n",
    "        model.fit(x_train, y_train)\n",
    "        print(\"Activation Function:\",i)\n",
    "        y_pred = model.predict(x_train)\n",
    "        count=0\n",
    "        for j in range(len(y_train)):\n",
    "            if y_train[j] == y_pred[j]:\n",
    "                count = count+1\n",
    "        print(\"Accuracy on Training data:\",(count/len(y_train)))\n",
    "        y_pred = model.predict(x_test)\n",
    "        count=0\n",
    "        for j in range(len(y_test)):\n",
    "            if y_test[j] == y_pred[j]:\n",
    "                count = count+1\n",
    "        error_rate.append((count/len(y_test)))\n",
    "        print(\"Accuracy on Validation data:\",(count/len(y_test)))\n",
    "        \n",
    "        \n",
    "    kloc = error_rate.index(max(error_rate))\n",
    "    print(\"Max accuracy is %s occurs at %s.\" % (error_rate[kloc], activation[kloc]))\n",
    "    return activation[kloc]"
   ]
  },
  {
   "cell_type": "code",
   "execution_count": 6,
   "metadata": {},
   "outputs": [],
   "source": [
    "def nn_hidden_layer(x_train,y_train,x_test,y_test):\n",
    "    error_rate = []\n",
    "    hidden_layer=[5,10,15,20,25,30,35,40,45,50,55,60,65,70,75,80,85,90]\n",
    "    for i in hidden_layer:\n",
    "        model = neural_network.MLPClassifier(solver='adam', alpha=1e-5,hidden_layer_sizes=i,activation='relu',\n",
    "                                             learning_rate_init=0.001,max_iter=40000,shuffle=True)\n",
    "        model.fit(x_train, y_train)\n",
    "        y_pred = model.predict(x_test)\n",
    "        count=0\n",
    "        for j in range(len(y_test)):\n",
    "            if y_test[j] == y_pred[j]:\n",
    "                count = count+1\n",
    "        error_rate.append((count/len(y_test)))\n",
    "    kloc = error_rate.index(max(error_rate))\n",
    "    print(\"Max accuracy is %s occurs at hidden layer size=%s.\" % (error_rate[kloc], hidden_layer[kloc]))\n",
    "\n",
    "    plt.plot(hidden_layer, error_rate, color='blue', linestyle='dashed', marker='o',\n",
    "             markerfacecolor='red', markersize=5)\n",
    "    plt.title('Accuracy vs. Hidden Layer Size')\n",
    "    plt.xlabel('Size')\n",
    "    plt.ylabel('Accuracy')\n",
    "    plt.show()\n",
    "    return hidden_layer[kloc]"
   ]
  },
  {
   "cell_type": "code",
   "execution_count": 9,
   "metadata": {},
   "outputs": [],
   "source": [
    "def nn_hidden_layer_2(x_train,y_train,x_test,y_test):\n",
    "    error_rate = []\n",
    "    hidden_layer=[30,35,40,45,50,55,60]\n",
    "    for i in hidden_layer:\n",
    "        model = neural_network.MLPClassifier(solver='adam', alpha=1e-5,hidden_layer_sizes=(50,i),activation='relu',\n",
    "                                             learning_rate_init=0.001,max_iter=40000,shuffle=True)\n",
    "        model.fit(x_train, y_train)\n",
    "        y_pred = model.predict(x_test)\n",
    "        count=0\n",
    "        for j in range(len(y_test)):\n",
    "            if y_test[j] == y_pred[j]:\n",
    "                count = count+1\n",
    "        error_rate.append((count/len(y_test)))\n",
    "    kloc = error_rate.index(max(error_rate))\n",
    "    print(\"Max accuracy is %s occurs at hidden layer size=%s.\" % (error_rate[kloc], hidden_layer[kloc]))\n",
    "\n",
    "    plt.plot(hidden_layer, error_rate, color='blue', linestyle='dashed', marker='o',\n",
    "             markerfacecolor='red', markersize=5)\n",
    "    plt.title('Accuracy vs. Hidden Layer Size')\n",
    "    plt.xlabel('Size')\n",
    "    plt.ylabel('Accuracy')\n",
    "    plt.show()\n",
    "    return hidden_layer[kloc]"
   ]
  },
  {
   "cell_type": "code",
   "execution_count": 5,
   "metadata": {},
   "outputs": [
    {
     "name": "stdout",
     "output_type": "stream",
     "text": [
      "Activation Function: identity\n",
      "Accuracy on Training data: 0.6203007518796992\n",
      "Accuracy on Validation data: 0.6616541353383458\n",
      "Activation Function: logistic\n",
      "Accuracy on Training data: 0.606203007518797\n",
      "Accuracy on Validation data: 0.6616541353383458\n",
      "Activation Function: tanh\n",
      "Accuracy on Training data: 0.6165413533834586\n",
      "Accuracy on Validation data: 0.6616541353383458\n",
      "Activation Function: relu\n",
      "Accuracy on Training data: 0.6578947368421053\n",
      "Accuracy on Validation data: 0.6842105263157895\n",
      "Max accuracy is 0.6842105263157895 occurs at relu.\n"
     ]
    }
   ],
   "source": [
    "hidden_layer = nn_activation(train_x,train_y,valid_x,valid_y)"
   ]
  },
  {
   "cell_type": "code",
   "execution_count": 8,
   "metadata": {},
   "outputs": [
    {
     "name": "stdout",
     "output_type": "stream",
     "text": [
      "Max accuracy is 0.7142857142857143 occurs at hidden layer size=50.\n"
     ]
    },
    {
     "data": {
      "image/png": "[encoded data removed]",
      "text/plain": [
       "<Figure size 432x288 with 1 Axes>"
      ]
     },
     "metadata": {
      "needs_background": "light"
     },
     "output_type": "display_data"
    }
   ],
   "source": [
    "hidden_layer = nn_hidden_layer(train_x,train_y,valid_x,valid_y)"
   ]
  },
  {
   "cell_type": "code",
   "execution_count": 10,
   "metadata": {},
   "outputs": [
    {
     "name": "stdout",
     "output_type": "stream",
     "text": [
      "Max accuracy is 0.6992481203007519 occurs at hidden layer size=45.\n"
     ]
    },
    {
     "data": {
      "image/png": "[encoded data removed]",
      "text/plain": [
       "<Figure size 432x288 with 1 Axes>"
      ]
     },
     "metadata": {
      "needs_background": "light"
     },
     "output_type": "display_data"
    }
   ],
   "source": [
    "hidden_layer = nn_hidden_layer_2(train_x,train_y,valid_x,valid_y)"
   ]
  },
  {
   "cell_type": "markdown",
   "metadata": {},
   "source": [
    "# Random Forrest"
   ]
  },
  {
   "cell_type": "code",
   "execution_count": 12,
   "metadata": {},
   "outputs": [
    {
     "name": "stdout",
     "output_type": "stream",
     "text": [
      "[ 95.77067669  96.33458647  97.27443609  98.02631579  98.4962406\n",
      "  98.4962406   99.62406015  99.53007519  99.71804511  99.43609023\n",
      "  99.15413534  99.43609023 100.          99.53007519  99.81203008\n",
      " 100.          99.90601504  99.53007519  99.90601504  99.90601504\n",
      " 100.          99.71804511 100.         100.          99.90601504\n",
      " 100.          99.90601504  99.90601504  99.90601504 100.\n",
      "  99.90601504 100.         100.          99.90601504 100.\n",
      " 100.         100.         100.         100.         100.\n",
      " 100.         100.         100.         100.         100.\n",
      " 100.        ]\n",
      "[61.65413534 62.40601504 64.66165414 60.15037594 68.42105263 60.90225564\n",
      " 63.90977444 66.16541353 65.41353383 66.91729323 64.66165414 62.40601504\n",
      " 69.17293233 61.65413534 67.66917293 70.67669173 69.92481203 65.41353383\n",
      " 70.67669173 64.66165414 71.42857143 70.67669173 67.66917293 67.66917293\n",
      " 69.17293233 64.66165414 66.91729323 67.66917293 72.18045113 67.66917293\n",
      " 65.41353383 71.42857143 72.93233083 69.92481203 69.92481203 69.17293233\n",
      " 69.92481203 68.42105263 72.93233083 69.92481203 73.68421053 69.17293233\n",
      " 66.16541353 70.67669173 70.67669173 69.17293233]\n"
     ]
    },
    {
     "data": {
      "text/plain": [
       "Text(0, 0.5, 'Accuracy [%]')"
      ]
     },
     "execution_count": 12,
     "metadata": {},
     "output_type": "execute_result"
    },
    {
     "data": {
      "image/png": "[encoded data removed]",
      "text/plain": [
       "<Figure size 432x288 with 1 Axes>"
      ]
     },
     "metadata": {
      "needs_background": "light"
     },
     "output_type": "display_data"
    }
   ],
   "source": [
    "acc_train=[]\n",
    "acc_test=[]\n",
    "i=5\n",
    "while i<=50:\n",
    "    clf = RandomForestClassifier(n_estimators=i)\n",
    "    clf = clf.fit(train_x,train_y)\n",
    "    acc_train.append(clf.score(train_x,train_y)*100)\n",
    "    acc_test.append(clf.score(valid_x,valid_y)*100)\n",
    "    i+=1\n",
    "    \n",
    "print(np.array(acc_train))\n",
    "print(np.array(acc_test))\n",
    "\n",
    "plt.plot(np.arange(5,51),acc_test, color='blue', linestyle='dashed', marker='o',\n",
    "             markerfacecolor='red', markersize=5)\n",
    "plt.xlabel('Max Depth [#]')\n",
    "plt.ylabel('Accuracy [%]')"
   ]
  },
  {
   "cell_type": "markdown",
   "metadata": {},
   "source": [
    "# K Nearest Neighbour "
   ]
  },
  {
   "cell_type": "code",
   "execution_count": 13,
   "metadata": {},
   "outputs": [
    {
     "name": "stdout",
     "output_type": "stream",
     "text": [
      "[100. 100. 100. 100. 100. 100. 100. 100. 100. 100. 100. 100. 100. 100.\n",
      " 100. 100. 100. 100. 100. 100. 100. 100. 100. 100. 100. 100. 100. 100.\n",
      " 100. 100. 100. 100. 100. 100. 100. 100. 100. 100. 100. 100. 100. 100.\n",
      " 100. 100. 100. 100. 100. 100.]\n",
      "[58.64661654 58.64661654 62.40601504 62.40601504 64.66165414 64.66165414\n",
      " 67.66917293 65.41353383 62.40601504 60.90225564 63.15789474 66.16541353\n",
      " 63.15789474 61.65413534 63.15789474 64.66165414 62.40601504 63.90977444\n",
      " 62.40601504 61.65413534 60.90225564 60.90225564 63.90977444 64.66165414\n",
      " 64.66165414 66.16541353 65.41353383 68.42105263 67.66917293 67.66917293\n",
      " 67.66917293 66.91729323 66.91729323 66.91729323 66.91729323 66.16541353\n",
      " 66.91729323 67.66917293 67.66917293 66.91729323 66.91729323 66.91729323\n",
      " 67.66917293 67.66917293 68.42105263 69.17293233 68.42105263 68.42105263]\n"
     ]
    },
    {
     "data": {
      "text/plain": [
       "Text(0, 0.5, 'Accuracy [%]')"
      ]
     },
     "execution_count": 13,
     "metadata": {},
     "output_type": "execute_result"
    },
    {
     "data": {
      "image/png": "[encoded data removed]",
      "text/plain": [
       "<Figure size 432x288 with 1 Axes>"
      ]
     },
     "metadata": {
      "needs_background": "light"
     },
     "output_type": "display_data"
    }
   ],
   "source": [
    "acc_train=[]\n",
    "acc_test=[]\n",
    "i=3\n",
    "while i<=50:\n",
    "    clf = KNeighborsClassifier(n_neighbors=i,weights='distance')\n",
    "    clf = clf.fit(train_x,train_y)\n",
    "    acc_train.append(clf.score(train_x,train_y)*100)\n",
    "    acc_test.append(clf.score(valid_x,valid_y)*100)\n",
    "    i+=1\n",
    "    \n",
    "print(np.array(acc_train))\n",
    "print(np.array(acc_test))\n",
    "\n",
    "plt.plot(np.arange(3,51),acc_test, color='blue', linestyle='dashed', marker='o',\n",
    "             markerfacecolor='red', markersize=5)\n",
    "plt.xlabel('Number of neighbours [k]')\n",
    "plt.ylabel('Accuracy [%]')"
   ]
  },
  {
   "cell_type": "markdown",
   "metadata": {},
   "source": [
    "# Final Models"
   ]
  },
  {
   "cell_type": "code",
   "execution_count": 14,
   "metadata": {},
   "outputs": [],
   "source": [
    "def classify(model,x_train,y_train,x_test,y_test):\n",
    "    model.fit(x_train,y_train)\n",
    "    t_0 = 0\n",
    "    t_1 = 0\n",
    "    f_0 = 0\n",
    "    f_1 = 0\n",
    "    y_pred = model.predict(x_test)\n",
    "    for i in range(len(y_test)):\n",
    "        if y_test[i] == 0:\n",
    "            if y_test[i]==y_pred[i]:\n",
    "                t_0 = t_0+1\n",
    "            else:\n",
    "                f_1 = f_1+1\n",
    "        elif y_test[i] == 1:\n",
    "            if y_test[i] == y_pred[i]:\n",
    "                t_1 = t_1+1\n",
    "            else:\n",
    "                f_0 = f_0+1\n",
    "                \n",
    "    print(\"Confusion Matrix:\")            \n",
    "    print(\"Predicted\\Actual   Not Ghost    Ghost\")\n",
    "    print(\"Not Ghost          \",t_0,\"        \",f_0)\n",
    "    print(\"Ghost              \",f_1,\"        \",t_1)\n",
    "    print(\"Accuracy:\",((t_0+t_1)/len(y_test)))\n",
    "    print(\"Error Rate:\",((f_0+f_1)/len(y_test)),\"\\n\")\n",
    "    print(\"Prediction of Not Ghost (clear) Fingerprints\")\n",
    "    print(\"-------------------\")\n",
    "    print(\"Precision:\",(t_0/(t_0+f_0)))\n",
    "    print(\"Recall:\",(t_0/(t_0+f_1)),\"\\n\")\n",
    "    print(\"Prediction of Ghost Fingerprints\")\n",
    "    print(\"---------------------\")\n",
    "    print(\"Precision:\",(t_1/(t_1+f_1)))\n",
    "    print(\"Recall:\",(t_1/(t_1+f_0)))"
   ]
  },
  {
   "cell_type": "code",
   "execution_count": 15,
   "metadata": {},
   "outputs": [],
   "source": [
    "model_nn = neural_network.MLPClassifier(solver='adam', alpha=1e-5,hidden_layer_sizes=80,activation='relu',\n",
    "                                             learning_rate_init=0.001,max_iter=40000,shuffle=True)\n",
    "\n",
    "model_rf = RandomForestClassifier(n_estimators=25)\n",
    "\n",
    "model_knn = KNeighborsClassifier(n_neighbors=9,weights='distance') \n"
   ]
  },
  {
   "cell_type": "code",
   "execution_count": 16,
   "metadata": {},
   "outputs": [
    {
     "name": "stdout",
     "output_type": "stream",
     "text": [
      "Confusion Matrix:\n",
      "Predicted\\Actual   Not Ghost    Ghost\n",
      "Not Ghost           45          21\n",
      "Ghost               22          46\n",
      "Accuracy: 0.6791044776119403\n",
      "Error Rate: 0.3208955223880597 \n",
      "\n",
      "Prediction of Not Ghost (clear) Fingerprints\n",
      "-------------------\n",
      "Precision: 0.6818181818181818\n",
      "Recall: 0.6716417910447762 \n",
      "\n",
      "Prediction of Ghost Fingerprints\n",
      "---------------------\n",
      "Precision: 0.6764705882352942\n",
      "Recall: 0.6865671641791045\n"
     ]
    }
   ],
   "source": [
    "classify(model_nn,train_x,train_y,test_x,test_y)"
   ]
  },
  {
   "cell_type": "code",
   "execution_count": 19,
   "metadata": {},
   "outputs": [
    {
     "name": "stdout",
     "output_type": "stream",
     "text": [
      "Confusion Matrix:\n",
      "Predicted\\Actual   Not Ghost    Ghost\n",
      "Not Ghost           37          20\n",
      "Ghost               30          47\n",
      "Accuracy: 0.6268656716417911\n",
      "Error Rate: 0.373134328358209 \n",
      "\n",
      "Prediction of Not Ghost (clear) Fingerprints\n",
      "-------------------\n",
      "Precision: 0.6491228070175439\n",
      "Recall: 0.5522388059701493 \n",
      "\n",
      "Prediction of Ghost Fingerprints\n",
      "---------------------\n",
      "Precision: 0.6103896103896104\n",
      "Recall: 0.7014925373134329\n"
     ]
    }
   ],
   "source": [
    "classify(model_rf,train_x,train_y,test_x,test_y)"
   ]
  },
  {
   "cell_type": "code",
   "execution_count": 20,
   "metadata": {},
   "outputs": [
    {
     "name": "stdout",
     "output_type": "stream",
     "text": [
      "Confusion Matrix:\n",
      "Predicted\\Actual   Not Ghost    Ghost\n",
      "Not Ghost           35          20\n",
      "Ghost               32          47\n",
      "Accuracy: 0.6119402985074627\n",
      "Error Rate: 0.3880597014925373 \n",
      "\n",
      "Prediction of Not Ghost (clear) Fingerprints\n",
      "-------------------\n",
      "Precision: 0.6363636363636364\n",
      "Recall: 0.5223880597014925 \n",
      "\n",
      "Prediction of Ghost Fingerprints\n",
      "---------------------\n",
      "Precision: 0.5949367088607594\n",
      "Recall: 0.7014925373134329\n"
     ]
    }
   ],
   "source": [
    "classify(model_knn,train_x,train_y,test_x,test_y)"
   ]
  }
 ],
 "metadata": {
  "kernelspec": {
   "display_name": "Python 3",
   "language": "python",
   "name": "python3"
  },
  "language_info": {
   "codemirror_mode": {
    "name": "ipython",
    "version": 3
   },
   "file_extension": ".py",
   "mimetype": "text/x-python",
   "name": "python",
   "nbconvert_exporter": "python",
   "pygments_lexer": "ipython3",
   "version": "3.7.3"
  }
 },
 "nbformat": 4,
 "nbformat_minor": 2
}
